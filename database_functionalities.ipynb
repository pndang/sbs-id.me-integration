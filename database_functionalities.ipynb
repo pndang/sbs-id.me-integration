{
 "cells": [
  {
   "cell_type": "code",
   "execution_count": 1,
   "metadata": {},
   "outputs": [],
   "source": [
    "import os\n",
    "import pandas as pd \n",
    "import numpy as np"
   ]
  },
  {
   "cell_type": "code",
   "execution_count": 2,
   "metadata": {},
   "outputs": [
    {
     "data": {
      "text/plain": [
       "[Timestamp('2024-09-24 22:30:00', freq='20T'),\n",
       " Timestamp('2024-09-24 22:50:00', freq='20T'),\n",
       " Timestamp('2024-09-24 23:10:00', freq='20T'),\n",
       " Timestamp('2024-09-24 23:30:00', freq='20T'),\n",
       " Timestamp('2024-09-24 23:50:00', freq='20T')]"
      ]
     },
     "execution_count": 2,
     "metadata": {},
     "output_type": "execute_result"
    }
   ],
   "source": [
    "# (Code test) Create calendar booking availability dataset\n",
    "\n",
    "currTime = pd.Timestamp.now()\n",
    "\n",
    "# round up to next whole tenth if not already\n",
    "roundedMinute = (currTime.minute // 10) * 10 + (10 if currTime.minute % 10 != 0 else 0)\n",
    "\n",
    "start = currTime.replace(minute=roundedMinute, second=0, microsecond=0)\n",
    "\n",
    "# generate 20-minute blocks over 5 days\n",
    "window = pd.date_range(start=start, periods=int((5*24*60)/20), freq='20T')\n",
    "\n",
    "times = window.tolist()\n",
    "times[:5]"
   ]
  },
  {
   "cell_type": "code",
   "execution_count": 3,
   "metadata": {},
   "outputs": [],
   "source": [
    "def new_calendar():\n",
    "\n",
    "    \"\"\" \n",
    "    Function to refresh booking calendar for a new 5-day window from \n",
    "    current timestamp.\n",
    "    \n",
    "    \"\"\"\n",
    "\n",
    "    # get current time\n",
    "    currTime = pd.Timestamp.now()\n",
    "\n",
    "    # round up to next whole tenth if not already\n",
    "    roundedMinute = (currTime.minute // 10) * 10 + (10 if currTime.minute % 10 != 0 else 0)\n",
    "\n",
    "    if roundedMinute == 60:\n",
    "        start = currTime.replace(hour=currTime.hour+1, minute=0, second=0, microsecond=0)\n",
    "    else:\n",
    "        start = currTime.replace(minute=roundedMinute, second=0, microsecond=0)\n",
    "\n",
    "    # generate 20-minute blocks over 5 days\n",
    "    window = pd.date_range(start=start, periods=int((5*24*60)/20), freq='20T')\n",
    "\n",
    "    times = window.tolist()\n",
    "    \n",
    "    POEs = ['San Ysidro', 'Otay Mesa']\n",
    "\n",
    "    # create pairs of POE and booking time\n",
    "    bookings = []\n",
    "    for poe in POEs:\n",
    "        for t in times:\n",
    "            bookings.append((t, poe))\n",
    "\n",
    "    # convert to dataframe\n",
    "    df = pd.DataFrame(bookings, columns=['timestamp', 'poe'])\n",
    "\n",
    "    # add an availability status column\n",
    "    df['status'] = ['open']*df.shape[0]\n",
    "\n",
    "    # export\n",
    "    path = 'sbs_project/data/calendar.csv'\n",
    "    df.to_csv(path, index=None)\n",
    "\n",
    "    return None"
   ]
  },
  {
   "cell_type": "code",
   "execution_count": 4,
   "metadata": {},
   "outputs": [],
   "source": [
    "new_calendar()"
   ]
  },
  {
   "cell_type": "code",
   "execution_count": null,
   "metadata": {},
   "outputs": [],
   "source": [
    "# user info to collect:\n",
    "# Name (first, last), phone, email"
   ]
  }
 ],
 "metadata": {
  "kernelspec": {
   "display_name": "Python 3",
   "language": "python",
   "name": "python3"
  },
  "language_info": {
   "codemirror_mode": {
    "name": "ipython",
    "version": 3
   },
   "file_extension": ".py",
   "mimetype": "text/x-python",
   "name": "python",
   "nbconvert_exporter": "python",
   "pygments_lexer": "ipython3",
   "version": "3.9.2"
  }
 },
 "nbformat": 4,
 "nbformat_minor": 2
}
